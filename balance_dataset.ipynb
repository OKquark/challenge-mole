{
 "cells": [
  {
   "attachments": {},
   "cell_type": "markdown",
   "metadata": {},
   "source": [
    "# Dataset structure"
   ]
  },
  {
   "attachments": {},
   "cell_type": "markdown",
   "metadata": {},
   "source": [
    "###  Load the needed libraries"
   ]
  },
  {
   "cell_type": "code",
   "execution_count": 1,
   "metadata": {},
   "outputs": [],
   "source": [
    "import numpy as np \n",
    "import pandas as pd \n",
    "import os\n",
    "import time"
   ]
  },
  {
   "cell_type": "code",
   "execution_count": 30,
   "metadata": {},
   "outputs": [],
   "source": [
    "import warnings\n",
    "warnings.filterwarnings(\"ignore\") "
   ]
  },
  {
   "attachments": {},
   "cell_type": "markdown",
   "metadata": {},
   "source": [
    "###  Load the dataset"
   ]
  },
  {
   "cell_type": "code",
   "execution_count": 2,
   "metadata": {},
   "outputs": [
    {
     "data": {
      "text/plain": [
       "(10015, 7)"
      ]
     },
     "execution_count": 2,
     "metadata": {},
     "output_type": "execute_result"
    }
   ],
   "source": [
    "df=pd.read_csv(r'data\\\\HAM10000_metadata.csv')\n",
    "df.shape"
   ]
  },
  {
   "cell_type": "code",
   "execution_count": 3,
   "metadata": {},
   "outputs": [
    {
     "data": {
      "text/plain": [
       "nv       6705\n",
       "mel      1113\n",
       "bkl      1099\n",
       "bcc       514\n",
       "akiec     327\n",
       "vasc      142\n",
       "df        115\n",
       "Name: dx, dtype: int64"
      ]
     },
     "execution_count": 3,
     "metadata": {},
     "output_type": "execute_result"
    }
   ],
   "source": [
    "df['dx'].value_counts()"
   ]
  },
  {
   "attachments": {},
   "cell_type": "markdown",
   "metadata": {},
   "source": [
    "### Create a balanced dataset"
   ]
  },
  {
   "cell_type": "code",
   "execution_count": 4,
   "metadata": {},
   "outputs": [],
   "source": [
    "SrcFolder = 'C:\\\\Users\\\\Olga\\\\Becode_Olga\\\\challenge-mole\\\\data\\\\HAM10000_images_part_2'\n",
    "MalFolder = 'C:\\\\Users\\\\Olga\\\\Becode_Olga\\\\challenge-melanoma\\\\data\\\\test\\\\Malignant'\n",
    "NvFolder = 'C:\\\\Users\\\\Olga\\\\Becode_Olga\\\\challenge-melanoma\\\\data\\\\test\\\\Nv'\n",
    "BenFolder = 'C:\\\\Users\\\\Olga\\\\Becode_Olga\\\\challenge-melanoma\\\\data\\\\test\\\\Normal'"
   ]
  },
  {
   "cell_type": "code",
   "execution_count": 5,
   "metadata": {},
   "outputs": [],
   "source": [
    "df_malignant= df.loc[df['dx'] == 'mel']"
   ]
  },
  {
   "cell_type": "code",
   "execution_count": 6,
   "metadata": {},
   "outputs": [],
   "source": [
    "df_nv= df.loc[df['dx'] == 'nv']"
   ]
  },
  {
   "attachments": {},
   "cell_type": "markdown",
   "metadata": {},
   "source": [
    "### The nv number could be minimized to balance dataset"
   ]
  },
  {
   "cell_type": "code",
   "execution_count": null,
   "metadata": {},
   "outputs": [],
   "source": [
    "list_images = os.listdir(SrcFolder)\n",
    "for FileName in list_images:\n",
    "        if FileName[:-4] in df_malignant['image_id'].to_list():\n",
    "             CommandLine = 'copy ' + SrcFolder +'\\\\' + FileName + ' ' + MalFolder + '\\\\*.* /Y'\n",
    "        elif FileName[:-4] in df_nv['image_id'].to_list():\n",
    "             CommandLine = 'copy ' + SrcFolder +'\\\\' + FileName + ' ' + NvFolder + '\\\\*.* /Y'        \n",
    "        else:\n",
    "             CommandLine = 'copy ' + SrcFolder +'\\\\' + FileName + ' ' + BenFolder + '\\\\*.* /Y'\n",
    "        os.system(CommandLine)\n",
    "        print(CommandLine)"
   ]
  },
  {
   "cell_type": "code",
   "execution_count": 8,
   "metadata": {},
   "outputs": [],
   "source": [
    "SrcFolder_train2 = 'C:\\\\Users\\\\Olga\\\\Becode_Olga\\\\challenge-mole\\\\data\\\\HAM10000_images_part_1'\n",
    "MalFolder_train2 = 'C:\\\\Users\\\\Olga\\\\Becode_Olga\\\\challenge-melanoma\\\\data\\\\train\\\\Malignant'\n",
    "BenFolder_train2 = 'C:\\\\Users\\\\Olga\\\\Becode_Olga\\\\challenge-melanoma\\\\data\\\\train\\\\Normal'\n",
    "NvFolder2 = 'C:\\\\Users\\\\Olga\\\\Becode_Olga\\\\challenge-melanoma\\\\data\\\\train\\\\Nv'"
   ]
  },
  {
   "cell_type": "code",
   "execution_count": null,
   "metadata": {},
   "outputs": [],
   "source": [
    "list_images = os.listdir(SrcFolder)\n",
    "for FileName in list_images:\n",
    "        if FileName[:-4] in df_malignant['image_id'].to_list():\n",
    "             CommandLine = 'copy ' + SrcFolder_train2 +'\\\\' + FileName + ' ' + MalFolder_train2 + '\\\\*.* /Y'\n",
    "        elif FileName[:-4] in df_nv['image_id'].to_list():\n",
    "             CommandLine = 'copy ' + SrcFolder_train2 +'\\\\' + FileName + ' ' + NvFolder2 + '\\\\*.* /Y'        \n",
    "        else:\n",
    "             CommandLine = 'copy ' + SrcFolder_train2 +'\\\\' + FileName + ' ' + BenFolder_train2 + '\\\\*.* /Y'\n",
    "        os.system(CommandLine)\n",
    "        print(CommandLine)"
   ]
  }
 ],
 "metadata": {
  "kernelspec": {
   "display_name": "Python 3",
   "language": "python",
   "name": "python3"
  },
  "language_info": {
   "codemirror_mode": {
    "name": "ipython",
    "version": 3
   },
   "file_extension": ".py",
   "mimetype": "text/x-python",
   "name": "python",
   "nbconvert_exporter": "python",
   "pygments_lexer": "ipython3",
   "version": "3.10.5 (tags/v3.10.5:f377153, Jun  6 2022, 16:14:13) [MSC v.1929 64 bit (AMD64)]"
  },
  "orig_nbformat": 4,
  "vscode": {
   "interpreter": {
    "hash": "26de051ba29f2982a8de78e945f0abaf191376122a1563185a90213a26c5da77"
   }
  }
 },
 "nbformat": 4,
 "nbformat_minor": 2
}
